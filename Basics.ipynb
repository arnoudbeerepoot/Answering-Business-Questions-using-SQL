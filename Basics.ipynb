{
 "cells": [
  {
   "cell_type": "markdown",
   "metadata": {},
   "source": [
    "# Answering Business Questions using SQL"
   ]
  },
  {
   "cell_type": "markdown",
   "metadata": {},
   "source": [
    "This project is using the chinook.db to make analysis and answering business questions using SQL.\n",
    "In this project SQL queries are made, plots are created to visualize the data and conclusions are drawn."
   ]
  },
  {
   "cell_type": "code",
   "execution_count": 1,
   "metadata": {},
   "outputs": [],
   "source": [
    "# import the needed packages\n",
    "\n",
    "import sqlite3 as s3\n",
    "import pandas as pd\n",
    "import matplotlib as plt\n",
    "import numpy as np\n",
    "%matplotlib inline"
   ]
  },
  {
   "cell_type": "code",
   "execution_count": 2,
   "metadata": {},
   "outputs": [],
   "source": [
    "#function to connect to the database run the query and give result in a dataframe\n",
    "\n",
    "def run_query(q):\n",
    "    with s3.connect('chinook.db') as conn:\n",
    "        return pd.read_sql(q, conn)\n",
    "    \n",
    "#function to run a sql command\n",
    "\n",
    "def run_command(c):\n",
    "    with s3.connect('chinook.db') as conn:\n",
    "        conn.isolation_level = None\n",
    "        conn.execute(c)\n",
    "        \n",
    "#function to return a list of all tables and views in the database\n",
    "\n",
    "def show_tables():\n",
    "    query = \"SELECT name, type FROM sqlite_master WHERE type IN ('table', 'view');\"\n",
    "    return run_query(query)   "
   ]
  },
  {
   "cell_type": "code",
   "execution_count": 3,
   "metadata": {},
   "outputs": [
    {
     "data": {
      "text/html": [
       "<div>\n",
       "<style scoped>\n",
       "    .dataframe tbody tr th:only-of-type {\n",
       "        vertical-align: middle;\n",
       "    }\n",
       "\n",
       "    .dataframe tbody tr th {\n",
       "        vertical-align: top;\n",
       "    }\n",
       "\n",
       "    .dataframe thead th {\n",
       "        text-align: right;\n",
       "    }\n",
       "</style>\n",
       "<table border=\"1\" class=\"dataframe\">\n",
       "  <thead>\n",
       "    <tr style=\"text-align: right;\">\n",
       "      <th></th>\n",
       "      <th>name</th>\n",
       "      <th>type</th>\n",
       "    </tr>\n",
       "  </thead>\n",
       "  <tbody>\n",
       "    <tr>\n",
       "      <th>0</th>\n",
       "      <td>album</td>\n",
       "      <td>table</td>\n",
       "    </tr>\n",
       "    <tr>\n",
       "      <th>1</th>\n",
       "      <td>artist</td>\n",
       "      <td>table</td>\n",
       "    </tr>\n",
       "    <tr>\n",
       "      <th>2</th>\n",
       "      <td>customer</td>\n",
       "      <td>table</td>\n",
       "    </tr>\n",
       "    <tr>\n",
       "      <th>3</th>\n",
       "      <td>employee</td>\n",
       "      <td>table</td>\n",
       "    </tr>\n",
       "    <tr>\n",
       "      <th>4</th>\n",
       "      <td>genre</td>\n",
       "      <td>table</td>\n",
       "    </tr>\n",
       "    <tr>\n",
       "      <th>5</th>\n",
       "      <td>invoice</td>\n",
       "      <td>table</td>\n",
       "    </tr>\n",
       "    <tr>\n",
       "      <th>6</th>\n",
       "      <td>invoice_line</td>\n",
       "      <td>table</td>\n",
       "    </tr>\n",
       "    <tr>\n",
       "      <th>7</th>\n",
       "      <td>media_type</td>\n",
       "      <td>table</td>\n",
       "    </tr>\n",
       "    <tr>\n",
       "      <th>8</th>\n",
       "      <td>playlist</td>\n",
       "      <td>table</td>\n",
       "    </tr>\n",
       "    <tr>\n",
       "      <th>9</th>\n",
       "      <td>playlist_track</td>\n",
       "      <td>table</td>\n",
       "    </tr>\n",
       "    <tr>\n",
       "      <th>10</th>\n",
       "      <td>track</td>\n",
       "      <td>table</td>\n",
       "    </tr>\n",
       "    <tr>\n",
       "      <th>11</th>\n",
       "      <td>other_customer</td>\n",
       "      <td>view</td>\n",
       "    </tr>\n",
       "    <tr>\n",
       "      <th>12</th>\n",
       "      <td>new_customer</td>\n",
       "      <td>view</td>\n",
       "    </tr>\n",
       "  </tbody>\n",
       "</table>\n",
       "</div>"
      ],
      "text/plain": [
       "              name   type\n",
       "0            album  table\n",
       "1           artist  table\n",
       "2         customer  table\n",
       "3         employee  table\n",
       "4            genre  table\n",
       "5          invoice  table\n",
       "6     invoice_line  table\n",
       "7       media_type  table\n",
       "8         playlist  table\n",
       "9   playlist_track  table\n",
       "10           track  table\n",
       "11  other_customer   view\n",
       "12    new_customer   view"
      ]
     },
     "execution_count": 3,
     "metadata": {},
     "output_type": "execute_result"
    }
   ],
   "source": [
    "show_tables()"
   ]
  },
  {
   "cell_type": "markdown",
   "metadata": {},
   "source": [
    "## Which genre is the most popular?"
   ]
  },
  {
   "cell_type": "code",
   "execution_count": 4,
   "metadata": {},
   "outputs": [
    {
     "data": {
      "text/html": [
       "<div>\n",
       "<style scoped>\n",
       "    .dataframe tbody tr th:only-of-type {\n",
       "        vertical-align: middle;\n",
       "    }\n",
       "\n",
       "    .dataframe tbody tr th {\n",
       "        vertical-align: top;\n",
       "    }\n",
       "\n",
       "    .dataframe thead th {\n",
       "        text-align: right;\n",
       "    }\n",
       "</style>\n",
       "<table border=\"1\" class=\"dataframe\">\n",
       "  <thead>\n",
       "    <tr style=\"text-align: right;\">\n",
       "      <th></th>\n",
       "      <th>name</th>\n",
       "      <th>sells</th>\n",
       "      <th>percentage</th>\n",
       "    </tr>\n",
       "  </thead>\n",
       "  <tbody>\n",
       "    <tr>\n",
       "      <th>0</th>\n",
       "      <td>Alternative &amp; Punk</td>\n",
       "      <td>332</td>\n",
       "      <td>9</td>\n",
       "    </tr>\n",
       "    <tr>\n",
       "      <th>1</th>\n",
       "      <td>Blues</td>\n",
       "      <td>81</td>\n",
       "      <td>2</td>\n",
       "    </tr>\n",
       "    <tr>\n",
       "      <th>2</th>\n",
       "      <td>Pop</td>\n",
       "      <td>48</td>\n",
       "      <td>1</td>\n",
       "    </tr>\n",
       "    <tr>\n",
       "      <th>3</th>\n",
       "      <td>Hip Hop/Rap</td>\n",
       "      <td>35</td>\n",
       "      <td>0</td>\n",
       "    </tr>\n",
       "  </tbody>\n",
       "</table>\n",
       "</div>"
      ],
      "text/plain": [
       "                 name  sells  percentage\n",
       "0  Alternative & Punk    332           9\n",
       "1               Blues     81           2\n",
       "2                 Pop     48           1\n",
       "3         Hip Hop/Rap     35           0"
      ]
     },
     "execution_count": 4,
     "metadata": {},
     "output_type": "execute_result"
    }
   ],
   "source": [
    "# Select the genres (out of Hip-Hop, Punk, Pop and Blues) which sell the most tracks in the USA\n",
    "\n",
    "query = \"SELECT g.name, count(track_id) sells, (count(track_id)*100/(SELECT count(*) FROM track)) percentage FROM track t INNER JOIN genre g on g.genre_id = t.genre_id WHERE g.name IN ('Hip Hop/Rap', 'Alternative & Punk', 'Pop', 'Blues') GROUP BY t.genre_id ORDER BY sells desc;\"\n",
    "run_query(query)"
   ]
  },
  {
   "cell_type": "code",
   "execution_count": 5,
   "metadata": {},
   "outputs": [
    {
     "data": {
      "text/plain": [
       "<matplotlib.axes._subplots.AxesSubplot at 0x7f336fe5a400>"
      ]
     },
     "execution_count": 5,
     "metadata": {},
     "output_type": "execute_result"
    },
    {
     "data": {
      "image/png": "[encoded data removed]",
      "text/plain": [
       "<matplotlib.figure.Figure at 0x7f336feb2d68>"
      ]
     },
     "metadata": {},
     "output_type": "display_data"
    }
   ],
   "source": [
    "# Plot the table above \n",
    "\n",
    "genre_sales_usa = run_query(query)\n",
    "genre_sales_usa.set_index('name', inplace=True)\n",
    "genre_sales_usa.plot(kind='barh')"
   ]
  },
  {
   "cell_type": "markdown",
   "metadata": {},
   "source": [
    "From the plot above it is clear that the most populair genres are Alternative & Punk, Blues and Pop. So it is recommended to add albums of the following artists to the store: Red Tone, Meteor and the Girls and Slim Jim Bites."
   ]
  },
  {
   "cell_type": "markdown",
   "metadata": {},
   "source": [
    "## Which sales support agent is performing best"
   ]
  },
  {
   "cell_type": "code",
   "execution_count": 6,
   "metadata": {},
   "outputs": [
    {
     "data": {
      "text/html": [
       "<div>\n",
       "<style scoped>\n",
       "    .dataframe tbody tr th:only-of-type {\n",
       "        vertical-align: middle;\n",
       "    }\n",
       "\n",
       "    .dataframe tbody tr th {\n",
       "        vertical-align: top;\n",
       "    }\n",
       "\n",
       "    .dataframe thead th {\n",
       "        text-align: right;\n",
       "    }\n",
       "</style>\n",
       "<table border=\"1\" class=\"dataframe\">\n",
       "  <thead>\n",
       "    <tr style=\"text-align: right;\">\n",
       "      <th></th>\n",
       "      <th>first_name</th>\n",
       "      <th>last_name</th>\n",
       "      <th>hire_date</th>\n",
       "      <th>total_sales</th>\n",
       "    </tr>\n",
       "  </thead>\n",
       "  <tbody>\n",
       "    <tr>\n",
       "      <th>0</th>\n",
       "      <td>Jane</td>\n",
       "      <td>Peacock</td>\n",
       "      <td>2017-04-01 00:00:00</td>\n",
       "      <td>1731.51</td>\n",
       "    </tr>\n",
       "    <tr>\n",
       "      <th>1</th>\n",
       "      <td>Margaret</td>\n",
       "      <td>Park</td>\n",
       "      <td>2017-05-03 00:00:00</td>\n",
       "      <td>1584.00</td>\n",
       "    </tr>\n",
       "    <tr>\n",
       "      <th>2</th>\n",
       "      <td>Steve</td>\n",
       "      <td>Johnson</td>\n",
       "      <td>2017-10-17 00:00:00</td>\n",
       "      <td>1393.92</td>\n",
       "    </tr>\n",
       "  </tbody>\n",
       "</table>\n",
       "</div>"
      ],
      "text/plain": [
       "  first_name last_name            hire_date  total_sales\n",
       "0       Jane   Peacock  2017-04-01 00:00:00      1731.51\n",
       "1   Margaret      Park  2017-05-03 00:00:00      1584.00\n",
       "2      Steve   Johnson  2017-10-17 00:00:00      1393.92"
      ]
     },
     "execution_count": 6,
     "metadata": {},
     "output_type": "execute_result"
    }
   ],
   "source": [
    "# Calculate the total dollar amount of sales assigned ot each sales support agent\n",
    "# Join the tables: employee, customer and invoice together, SUM the total invoice amount and Group by employee\n",
    "\n",
    "query = \"\"\" \n",
    "    SELECT e.first_name, \n",
    "           e.last_name, \n",
    "           e.hire_date, \n",
    "           SUM(i.total) total_sales \n",
    "    FROM employee e \n",
    "    INNER JOIN customer c \n",
    "    ON c.support_rep_id = e.employee_id \n",
    "    INNER JOIN invoice i \n",
    "    ON i.customer_id = c.customer_id \n",
    "    GROUP BY employee_id\n",
    "    \"\"\"\n",
    "run_query(query)"
   ]
  },
  {
   "cell_type": "code",
   "execution_count": 7,
   "metadata": {},
   "outputs": [
    {
     "data": {
      "text/plain": [
       "<matplotlib.axes._subplots.AxesSubplot at 0x7f33660be3c8>"
      ]
     },
     "execution_count": 7,
     "metadata": {},
     "output_type": "execute_result"
    },
    {
     "data": {
      "image/png": "[encoded data removed]",
      "text/plain": [
       "<matplotlib.figure.Figure at 0x7f336fe02198>"
      ]
     },
     "metadata": {},
     "output_type": "display_data"
    }
   ],
   "source": [
    "# save the result of the query to a pandas dataframe\n",
    "# create a new name column which is a combination of first and last name and make that new column the index\n",
    "# This is resulting in showing the name below the bars\n",
    "\n",
    "agent_total_sales = run_query(query)\n",
    "agent_total_sales[\"name\"] = agent_total_sales[\"first_name\"] + \" \" + agent_total_sales[\"last_name\"]\n",
    "agent_total_sales.set_index('name', inplace=True)\n",
    "agent_total_sales.plot(kind='bar')"
   ]
  },
  {
   "cell_type": "markdown",
   "metadata": {},
   "source": [
    "All sales are assigned to one of the 3 sales support agents belonging to the company. \n",
    "There is a difference in the total sales between the sales support agents. An explanation could be the total period they are working for Chinook. The total sales of the sales support agent who started first is highest."
   ]
  },
  {
   "cell_type": "markdown",
   "metadata": {},
   "source": [
    "## Analyze customer data for different countries"
   ]
  },
  {
   "cell_type": "markdown",
   "metadata": {},
   "source": [
    "Below sales data is analyzed for customers from each different country. The following data is calculated:\n",
    "- total number of customers\n",
    "- total value of sales\n",
    "- average value of sales per customer\n",
    "- average order value\n",
    "\n",
    "Because there are a number of countries with only one customer, these customers are grouped as \"Other\" in the analysis. The \"Other\" group ordering is forced to last in the analysis."
   ]
  },
  {
   "cell_type": "code",
   "execution_count": 9,
   "metadata": {},
   "outputs": [
    {
     "data": {
      "text/html": [
       "<div>\n",
       "<style scoped>\n",
       "    .dataframe tbody tr th:only-of-type {\n",
       "        vertical-align: middle;\n",
       "    }\n",
       "\n",
       "    .dataframe tbody tr th {\n",
       "        vertical-align: top;\n",
       "    }\n",
       "\n",
       "    .dataframe thead th {\n",
       "        text-align: right;\n",
       "    }\n",
       "</style>\n",
       "<table border=\"1\" class=\"dataframe\">\n",
       "  <thead>\n",
       "    <tr style=\"text-align: right;\">\n",
       "      <th></th>\n",
       "      <th>country</th>\n",
       "      <th>number_of_customers</th>\n",
       "      <th>total_sales</th>\n",
       "      <th>average_sales_customer</th>\n",
       "      <th>average_order_value</th>\n",
       "    </tr>\n",
       "  </thead>\n",
       "  <tbody>\n",
       "    <tr>\n",
       "      <th>0</th>\n",
       "      <td>USA</td>\n",
       "      <td>13</td>\n",
       "      <td>1040.49</td>\n",
       "      <td>80.04</td>\n",
       "      <td>7.94</td>\n",
       "    </tr>\n",
       "    <tr>\n",
       "      <th>1</th>\n",
       "      <td>Canada</td>\n",
       "      <td>8</td>\n",
       "      <td>535.59</td>\n",
       "      <td>66.95</td>\n",
       "      <td>7.05</td>\n",
       "    </tr>\n",
       "    <tr>\n",
       "      <th>2</th>\n",
       "      <td>Brazil</td>\n",
       "      <td>5</td>\n",
       "      <td>427.68</td>\n",
       "      <td>85.54</td>\n",
       "      <td>7.01</td>\n",
       "    </tr>\n",
       "    <tr>\n",
       "      <th>3</th>\n",
       "      <td>France</td>\n",
       "      <td>5</td>\n",
       "      <td>389.07</td>\n",
       "      <td>77.81</td>\n",
       "      <td>7.78</td>\n",
       "    </tr>\n",
       "    <tr>\n",
       "      <th>4</th>\n",
       "      <td>Germany</td>\n",
       "      <td>4</td>\n",
       "      <td>334.62</td>\n",
       "      <td>83.66</td>\n",
       "      <td>8.16</td>\n",
       "    </tr>\n",
       "    <tr>\n",
       "      <th>5</th>\n",
       "      <td>Czech Republic</td>\n",
       "      <td>2</td>\n",
       "      <td>273.24</td>\n",
       "      <td>136.62</td>\n",
       "      <td>9.11</td>\n",
       "    </tr>\n",
       "    <tr>\n",
       "      <th>6</th>\n",
       "      <td>United Kingdom</td>\n",
       "      <td>3</td>\n",
       "      <td>245.52</td>\n",
       "      <td>81.84</td>\n",
       "      <td>8.77</td>\n",
       "    </tr>\n",
       "    <tr>\n",
       "      <th>7</th>\n",
       "      <td>Portugal</td>\n",
       "      <td>2</td>\n",
       "      <td>185.13</td>\n",
       "      <td>92.57</td>\n",
       "      <td>6.38</td>\n",
       "    </tr>\n",
       "    <tr>\n",
       "      <th>8</th>\n",
       "      <td>India</td>\n",
       "      <td>2</td>\n",
       "      <td>183.15</td>\n",
       "      <td>91.57</td>\n",
       "      <td>8.72</td>\n",
       "    </tr>\n",
       "    <tr>\n",
       "      <th>9</th>\n",
       "      <td>Other</td>\n",
       "      <td>15</td>\n",
       "      <td>1094.94</td>\n",
       "      <td>73.00</td>\n",
       "      <td>7.45</td>\n",
       "    </tr>\n",
       "  </tbody>\n",
       "</table>\n",
       "</div>"
      ],
      "text/plain": [
       "          country  number_of_customers  total_sales  average_sales_customer  \\\n",
       "0             USA                   13      1040.49                   80.04   \n",
       "1          Canada                    8       535.59                   66.95   \n",
       "2          Brazil                    5       427.68                   85.54   \n",
       "3          France                    5       389.07                   77.81   \n",
       "4         Germany                    4       334.62                   83.66   \n",
       "5  Czech Republic                    2       273.24                  136.62   \n",
       "6  United Kingdom                    3       245.52                   81.84   \n",
       "7        Portugal                    2       185.13                   92.57   \n",
       "8           India                    2       183.15                   91.57   \n",
       "9           Other                   15      1094.94                   73.00   \n",
       "\n",
       "   average_order_value  \n",
       "0                 7.94  \n",
       "1                 7.05  \n",
       "2                 7.01  \n",
       "3                 7.78  \n",
       "4                 8.16  \n",
       "5                 9.11  \n",
       "6                 8.77  \n",
       "7                 6.38  \n",
       "8                 8.72  \n",
       "9                 7.45  "
      ]
     },
     "execution_count": 9,
     "metadata": {},
     "output_type": "execute_result"
    }
   ],
   "source": [
    "q = \"\"\"\\\n",
    "    SELECT country, \n",
    "           number_of_customers, \n",
    "           total_sales, \n",
    "           average_sales_customer, \n",
    "           average_order_value \n",
    "    FROM \n",
    "        (SELECT n.new_country country, \n",
    "                COUNT(DISTINCT(c.customer_id)) number_of_customers, \n",
    "                SUM(i.total) total_sales, \n",
    "                ROUND(SUM(i.total)/COUNT(DISTINCT(c.customer_id)),2) average_sales_customer, \n",
    "                ROUND(SUM(i.total)/COUNT(c.customer_id),2) average_order_value, \n",
    "                CASE WHEN n.new_country='Other' \n",
    "                    THEN 1 \n",
    "                    ELSE 0 END as sort \n",
    "         FROM customer c \n",
    "         INNER JOIN \n",
    "             (SELECT a.country, \n",
    "              CASE WHEN COUNT(DISTINCT(a.customer_id)) = 1 \n",
    "                   THEN 'Other' \n",
    "                   ELSE a.country END as new_country \n",
    "              FROM customer a group by a.country) n \n",
    "         ON n.country = c.country \n",
    "         INNER JOIN invoice i \n",
    "         ON i.customer_id = c.customer_id \n",
    "         GROUP BY 1) \n",
    "    ORDER BY sort ASC, total_sales DESC  \n",
    "\"\"\"\n",
    "run_query(q)"
   ]
  },
  {
   "cell_type": "code",
   "execution_count": 10,
   "metadata": {},
   "outputs": [
    {
     "data": {
      "text/plain": [
       "<matplotlib.axes._subplots.AxesSubplot at 0x7f3365f1d898>"
      ]
     },
     "execution_count": 10,
     "metadata": {},
     "output_type": "execute_result"
    },
    {
     "data": {
      "image/png": "[encoded data removed]",
      "text/plain": [
       "<matplotlib.figure.Figure at 0x7f3365fdc3c8>"
      ]
     },
     "metadata": {},
     "output_type": "display_data"
    }
   ],
   "source": [
    "# plot the data from the table above\n",
    "\n",
    "customer_analysis = run_query(q)\n",
    "columns = [\"USA\", \"Canada\", \"Brazil\", \"France\", \"Germany\", \"Czech Republic\", \"United Kingdom\", \"Portugal\", \"India\"]\n",
    "customer_analysis.set_index('country', inplace=True)\n",
    "\n",
    "fig, axes = plt.pyplot.subplots(nrows=2, ncols=2, figsize=(10,10), sharex=True)\n",
    "customer_analysis.loc[columns,\"number_of_customers\"].plot(ax=axes[0,0], title=\"number of customers\", kind='bar', color=['#17becf', '#bcbd22', '#7f7f7f', '#e377c2', '#8c564b', '#9467bd', '#d62728', '#2ca02c', '#ff7f0e'])\n",
    "customer_analysis.loc[columns,\"total_sales\"].plot(ax=axes[0,1], kind='bar', title=\"total sales\", color=['#17becf', '#bcbd22', '#7f7f7f', '#e377c2', '#8c564b', '#9467bd', '#d62728', '#2ca02c', '#ff7f0e'])\n",
    "customer_analysis.loc[columns,\"average_sales_customer\"].plot(ax=axes[1,0], kind='bar', title=\"average sales customer\", color=['#17becf', '#bcbd22', '#7f7f7f', '#e377c2', '#8c564b', '#9467bd', '#d62728', '#2ca02c', '#ff7f0e'])\n",
    "customer_analysis.loc[columns,\"average_order_value\"].plot(ax=axes[1,1], kind='bar', title=\"average order value\", color=['#17becf', '#bcbd22', '#7f7f7f', '#e377c2', '#8c564b', '#9467bd', '#d62728', '#2ca02c', '#ff7f0e'])\n"
   ]
  },
  {
   "cell_type": "markdown",
   "metadata": {
    "collapsed": true
   },
   "source": [
    "From the plots above it can be found that the most customers are from the USA. Therefore it is expected that the total sales of the USA is also the hightest. One special figure is the average sales per customer of the Czech Republic. This is must higher than the others. Average order value is almost equal for all countries. One recommendation for the marketing team is: Get more customers to make more sales."
   ]
  },
  {
   "cell_type": "markdown",
   "metadata": {},
   "source": [
    "## Album or individual purchase"
   ]
  },
  {
   "cell_type": "code",
   "execution_count": 46,
   "metadata": {},
   "outputs": [
    {
     "data": {
      "text/html": [
       "<div>\n",
       "<style scoped>\n",
       "    .dataframe tbody tr th:only-of-type {\n",
       "        vertical-align: middle;\n",
       "    }\n",
       "\n",
       "    .dataframe tbody tr th {\n",
       "        vertical-align: top;\n",
       "    }\n",
       "\n",
       "    .dataframe thead th {\n",
       "        text-align: right;\n",
       "    }\n",
       "</style>\n",
       "<table border=\"1\" class=\"dataframe\">\n",
       "  <thead>\n",
       "    <tr style=\"text-align: right;\">\n",
       "      <th></th>\n",
       "      <th>album_purchase</th>\n",
       "      <th>total_invoices</th>\n",
       "      <th>percentage_invoices</th>\n",
       "    </tr>\n",
       "  </thead>\n",
       "  <tbody>\n",
       "    <tr>\n",
       "      <th>0</th>\n",
       "      <td>114</td>\n",
       "      <td>614</td>\n",
       "      <td>18.566775</td>\n",
       "    </tr>\n",
       "  </tbody>\n",
       "</table>\n",
       "</div>"
      ],
      "text/plain": [
       "   album_purchase  total_invoices  percentage_invoices\n",
       "0             114             614            18.566775"
      ]
     },
     "execution_count": 46,
     "metadata": {},
     "output_type": "execute_result"
    }
   ],
   "source": [
    "# Query that categorizes each invoice as either an album purchase or not, and calculates the following summary statistics\n",
    "# - Number of invoices\n",
    "# - Percentage of invoices\n",
    "\n",
    "query=\"\"\"\\\n",
    "SELECT \n",
    "   SUM(CASE \n",
    "       WHEN (\n",
    "       SELECT t.track_id FROM album a\n",
    "       INNER JOIN track t on t.album_id = a.album_id\n",
    "       WHERE t.album_id = (\n",
    "           SELECT MAX(album_id) FROM track tr\n",
    "           INNER JOIN invoice_line il \n",
    "           ON il.track_id = tr.track_id\n",
    "           WHERE invoice_id = inv.invoice_id)\n",
    "    EXCEPT\n",
    "        SELECT il.track_id FROM invoice_line il\n",
    "        INNER JOIN track t on t.track_id = il.track_id\n",
    "        WHERE il.invoice_id = inv.invoice_id) IS NULL\n",
    "    \n",
    "    AND \n",
    "        (\n",
    "        SELECT il.track_id FROM invoice_line il\n",
    "        INNER JOIN track t on t.track_id = il.track_id\n",
    "        WHERE il.invoice_id = inv.invoice_id    \n",
    "    EXCEPT\n",
    "        SELECT t.track_id FROM album a\n",
    "        INNER JOIN track t on t.album_id = a.album_id\n",
    "        WHERE t.album_id = (\n",
    "           SELECT MAX(album_id) FROM track tr\n",
    "           INNER JOIN invoice_line il \n",
    "           ON il.track_id = tr.track_id\n",
    "           WHERE invoice_id = inv.invoice_id)) IS NULL\n",
    "        THEN 1\n",
    "        ELSE 0\n",
    "    END) as album_purchase, COUNT(inv.invoice_id) as total_invoices,\n",
    "    \n",
    "    CAST( \n",
    "      SUM(CASE \n",
    "             WHEN (\n",
    "               SELECT t.track_id FROM album a\n",
    "               INNER JOIN track t on t.album_id = a.album_id\n",
    "               WHERE t.album_id = (\n",
    "                   SELECT MAX(album_id) FROM track tr\n",
    "                   INNER JOIN invoice_line il \n",
    "                   ON il.track_id = tr.track_id\n",
    "                   WHERE invoice_id = inv.invoice_id)\n",
    "               EXCEPT\n",
    "                  SELECT il.track_id FROM invoice_line il\n",
    "                  INNER JOIN track t on t.track_id = il.track_id\n",
    "                  WHERE il.invoice_id = inv.invoice_id) IS NULL\n",
    "    \n",
    "           AND \n",
    "               (\n",
    "               SELECT il.track_id FROM invoice_line il\n",
    "               INNER JOIN track t on t.track_id = il.track_id\n",
    "               WHERE il.invoice_id = inv.invoice_id    \n",
    "               EXCEPT\n",
    "               SELECT t.track_id FROM album a\n",
    "               INNER JOIN track t on t.album_id = a.album_id\n",
    "               WHERE t.album_id = (\n",
    "                   SELECT MAX(album_id) FROM track tr\n",
    "                   INNER JOIN invoice_line il \n",
    "                   ON il.track_id = tr.track_id\n",
    "                   WHERE invoice_id = inv.invoice_id)) IS NULL\n",
    "           THEN 1\n",
    "           ELSE 0\n",
    "           END) AS float)/COUNT(inv.invoice_id) * 100.00 as percentage_invoices\n",
    "        FROM invoice inv   \n",
    "\"\"\"\n",
    "run_query(query)"
   ]
  },
  {
   "cell_type": "markdown",
   "metadata": {
    "collapsed": true
   },
   "source": [
    "In the table above it can be found that 114 out of 614 purchases (18.6%) is an album purchase. From these figures it is recommended to focus more on individual tracks."
   ]
  },
  {
   "cell_type": "markdown",
   "metadata": {},
   "source": [
    "## Following steps"
   ]
  },
  {
   "cell_type": "markdown",
   "metadata": {},
   "source": [
    "Look at the schema and come up with some more business questions, and then write queries to answer them. Here are a few to get you started:\n",
    "\n",
    "    Which artist is used in the most playlists?\n",
    "    How many tracks have been purchased vs not purchased?\n",
    "    Is the range of tracks in the store reflective of their sales popularity?\n",
    "    Do protected vs non-protected media types have an effect on popularity?\n"
   ]
  }
 ],
 "metadata": {
  "kernelspec": {
   "display_name": "Python 3",
   "language": "python",
   "name": "python3"
  },
  "language_info": {
   "codemirror_mode": {
    "name": "ipython",
    "version": 3
   },
   "file_extension": ".py",
   "mimetype": "text/x-python",
   "name": "python",
   "nbconvert_exporter": "python",
   "pygments_lexer": "ipython3",
   "version": "3.6.4"
  }
 },
 "nbformat": 4,
 "nbformat_minor": 2
}
